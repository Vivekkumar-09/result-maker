{
 "cells": [
  {
   "cell_type": "code",
   "execution_count": 9,
   "id": "e0f70dbd-837c-4f35-ac97-5e60930b487a",
   "metadata": {},
   "outputs": [],
   "source": [
    "import mysql.connector"
   ]
  },
  {
   "cell_type": "code",
   "execution_count": 14,
   "id": "11114363-50e2-48f1-a1b6-058cdb07ac23",
   "metadata": {},
   "outputs": [],
   "source": [
    "mydb = mysql.connector.connect(\n",
    "    host = \"localhost\",\n",
    "    user = \"root\",\n",
    "    passwd = \"2002\"\n",
    ")\n",
    "\n",
    "mycursor = mydb.cursor()\n",
    "\n",
    "mycursor.execute(\"show databases\")\n",
    "for db in mycursor:\n",
    "    if \"result\" in db:\n",
    "        break\n",
    "else:\n",
    "    mycursor.execute(\"create database result\")"
   ]
  },
  {
   "cell_type": "code",
   "execution_count": null,
   "id": "e25882d2-c74a-4094-808a-f1611f56f9aa",
   "metadata": {},
   "outputs": [],
   "source": [
    "mydb = mysql.connector.connect(\n",
    "    host = \"localhost\",\n",
    "    user = \"root\",\n",
    "    passwd = \"2002\"\n",
    "    database = \"result\"\n",
    ")\n",
    "\n",
    "mycursor = mydb.cursor()"
   ]
  },
  {
   "cell_type": "markdown",
   "id": "8657a3af-985b-4187-aee3-f34d2da7bada",
   "metadata": {},
   "source": [
    "### Table Name"
   ]
  },
  {
   "cell_type": "code",
   "execution_count": null,
   "id": "98fdb11e-db2d-471d-8e0d-e658c1549396",
   "metadata": {},
   "outputs": [],
   "source": [
    "std=input(\"Enter the Class: \")         \n",
    "std=std.upper()\n",
    "while std.isalpha()==False:\n",
    "    print(\"Invalid!!, Try Again.\")\n",
    "    std=input(\"Enter the Class:\")\n",
    "    std=std.upper()\n",
    "\n",
    "# session=input(\"ENTER THE GOING SESSION : \") \n"
   ]
  },
  {
   "cell_type": "code",
   "execution_count": null,
   "id": "82a7f9bb-23c2-4d3f-9362-6ba978bf8d09",
   "metadata": {},
   "outputs": [],
   "source": [
    "def checking_input(list_name,len_list):\n",
    "    while True:\n",
    "        for i in range(len_list):\n",
    "            if list_name==t_mrk:    \n",
    "                print('\\n\\t ',subs[i]+(7-len(subs[i]))*' ',':',list_name[i])\n",
    "            else:\n",
    "                print('\\n\\t ',i+1,':',list_name[i])\n",
    "        response=input('''\\n\\t  #YOU WANT TO UPDATE\n",
    "                      1.YES\n",
    "                      2.NO\n",
    "                      : ''')\n",
    "        if response=='1':\n",
    "            intendetion=input('''\\n ENTER THE SERIAL NO.\n",
    "                      :  ''')\n",
    "            while int(intendetion)>len_list or intendetion=='' or intendetion.isdigit()==False:     \n",
    "                print('''\\n\\tINVALID INPUT!!!\n",
    "                 ENTER AGAIN ''')\n",
    "                intendetion=input('''\\n ENTER THE SERIAL NO.\n",
    "                  :  ''') \n",
    "            entry=input('ENTER THE UPDATE VALUE : ')\n",
    "            if list_name==subs:\n",
    "                while len(entry)>7 or entry=='':\n",
    "                    print('''\\n\\tINVALID INPUT!!!\n",
    "                     ENTER AGAIN ''')\n",
    "                    entry=input(' : ')\n",
    "                entry=entry.upper()\n",
    "            list_name[int(intendetion)-1]=entry \n",
    "        else:\n",
    "            break\n",
    "\n",
    "\n",
    "\n",
    "number_of_subjects = int(input(\"ENTER NO. OF SUBJECTS : \"))    \n",
    "\n",
    "name_of_subjects = []\n",
    "print(\"ENTER THE NAME OF SUBJECTS: \")\n",
    "for i in range(number_of_subjects):\n",
    "    entry = input(i+1+\": \").upper()                                  \n",
    "    name_of_subjects.append(entry)\n",
    "\n",
    "updater(subs,sub_no)  # Give the attension\n",
    "\n",
    "totalmark_of_subjects = []\n",
    "print(\"ENTER TOTAL MARKS OF Each SUBJECTS\")\n",
    "for i in name_of_subjects:                 \n",
    "    entry = input(i+\": \")\n",
    "    totalmark_of_subjects.append(entry)\n",
    "    \n",
    "updater(t_mrk,sub_no) # Give the attension\n",
    "\n",
    "number_of_students = int(input(\"ENTER NO. OF STUDENTS : \"))\n",
    "\n",
    "name_of_students = []\n",
    "print(\"ENTER THE NAME OF STUDENTS: \")\n",
    "for i in range(number_of_students):\n",
    "    entry = input(i+1+\": \").capitalize()                              \n",
    "    name_of_students.append(entry)             \n",
    "    \n",
    "updater(studts,studt_no) # Give the attension\n",
    " \n",
    "subject_marks = []\n",
    "print(\"ENTER THE MARKS OF EACH STUDENT\")\n",
    "\n",
    "# Give the attension\n",
    "'''\n",
    "for j in range(sub_no):\n",
    "    print('\\n\\t',subs[j])\n",
    "    print()\n",
    "    lst=[]        \n",
    "    for i in studts:\n",
    "        print('\\t',i,(big-len(i))*' ',end=': ')             \n",
    "        entry=input()\n",
    "        while entry=='' or entry.isdigit()==False or int(t_mrk[j])<int(entry):\n",
    "            print(\\n\\tINVALID INPUT!!!\n",
    "             ENTER AGAIN )\n",
    "            print('\\t',i,end=': ')\n",
    "            entry=input()\n",
    "        lst.append(entry)\n",
    "    updater(lst,studt_no)\n",
    "    mrks.append(lst)\n",
    "\n",
    "'''\n",
    "t_hoz=[]\n",
    "for i in range(studt_no):           \n",
    "    tp=0  \n",
    "    for j in range(sub_no):\n",
    "        tp+=int(mrks[j][i])\n",
    "    t_hoz.append(tp) \n",
    "t_ver=[]                                       \n",
    "for i in range(sub_no):\n",
    "    tp=0\n",
    "    for j in range(studt_no):\n",
    "        tp+=int(mrks[i][j])\n",
    "    t_ver.append(tp) \n",
    "asc_hoz=list(t_hoz)\n",
    "asc_hoz.sort(reverse=True)    \n",
    "cnvrt_mrk=[]       \n",
    "l_age=[]     \n",
    "\n",
    "def _count():                               \n",
    "    print() \n",
    "    def c_line():\n",
    "        print('   '+'+'+big*'-'+'+',end='')\n",
    "        print(6*(7*'-'+'+')) \n",
    "    def c_body(): \n",
    "        c_line() \n",
    "        print(3*' '+'|'+fitt('SUBJECTS',big)+'|',end='')\n",
    "        print('  <33  | 33-59 | 60-74 | 75-89 | 90-94 | 95=<  |') \n",
    "        c_line() \n",
    "        for i in range(sub_no):\n",
    "            tp=big-len(subs[i])\n",
    "            print(3*' '+'|'+subs[i]+tp*' '+'|',end='') \n",
    "            b_33=b_59=b_74=b_89=b_94=a_95=0\n",
    "            for j in range(studt_no):\n",
    "                if cnvrt_mrk[j][i]<33:\n",
    "                    b_33+=1 \n",
    "                elif cnvrt_mrk[j][i]<=59 and cnvrt_mrk[j][i]>=33:\n",
    "                    b_59+=1 \n",
    "                elif cnvrt_mrk[j][i]<=74 and cnvrt_mrk[j][i]>=60:\n",
    "                    b_74+=1 \n",
    "                elif cnvrt_mrk[j][i]<=89 and cnvrt_mrk[j][i]>=75:\n",
    "                    b_89+=1 \n",
    "                elif cnvrt_mrk[j][i]<=94 and cnvrt_mrk[j][i]>=90:\n",
    "                    b_94+=1 \n",
    "                else:\n",
    "                    a_95+=1 \n",
    "            print(fitt(b_33,7)+'|', fitt(b_59,7)+'|', fitt(b_74,7)+'|', fitt(b_89,7)+'|',end='')\n",
    "            print(fitt(b_94,7)+'|', fitt(a_95,7)+'|') \n",
    "            c_line() \n",
    "    c_body() \n",
    "def achiver():                          \n",
    "    print()\n",
    "    blnk=((4*(2*sub_no+2))-30)*' '\n",
    "    def a_line():\n",
    "        print('   +---+'+big*'-'+'+-----+',end='')\n",
    "        print(blnk,end='')\n",
    "        print('+---+'+big*'-'+'+-----+') \n",
    "    top_dict={}\n",
    "    for i in range(studt_no):\n",
    "        if t_hoz[i]==asc_hoz[0] and 1 not in top_dict:\n",
    "            top_dict[1]=i \n",
    "        elif t_hoz[i]==asc_hoz[1] and 2 not in top_dict:\n",
    "            top_dict[2]=i \n",
    "        elif t_hoz[i]==asc_hoz[2] and 3 not in top_dict:\n",
    "            top_dict[3]=i \n",
    "        elif t_hoz[i]==asc_hoz[-1] and 4 not in top_dict:\n",
    "            top_dict[4]=i \n",
    "        elif t_hoz[i]==asc_hoz[-2] and 5 not in top_dict:\n",
    "            top_dict[5]=i \n",
    "        elif t_hoz[i]==asc_hoz[-3] and 6 not in top_dict:\n",
    "            top_dict[6]=i \n",
    "    print(3*' '+fitt('HIGH ACHIEVERS',26),end='')\n",
    "    print(blnk,end='')\n",
    "    print(fitt('LOW ACHIEVERS',26)) \n",
    "    a_line() \n",
    "    print('   |RNK|'+fitt('STUDENTS',big)+'|% AGE|',end='')\n",
    "    print(blnk,end='')\n",
    "    print('|RNK|'+fitt('STUDENTS',big)+'|% AGE|')\n",
    "    a_line()\n",
    "    for i in range(3): \n",
    "        print('   |'+fitt(str(1+i)+'.',3)+'|',end='')\n",
    "        print(fitt(studts[top_dict[i+1]],big)+'|', fitt(l_age[top_dict[i+1]],5)+'|', blnk,end='')\n",
    "        print('|'+fitt(str(studt_no-i)+'.',3)+'|',end='')\n",
    "        print(fitt(studts[top_dict[i+4]],big)+'|',end='')\n",
    "        print(fitt(l_age[top_dict[i+4]],5)+'|')\n",
    "        a_line()\n",
    "tp=input('''\\n\\t # RESULT IS COMPLETED\n",
    "            # PRESS ENTER''')\n",
    "def result():        \n",
    "    print('\\n',fitt(school,big+(4*(2*sub_no+2))+12))\n",
    "    print('CLASS TEACHER:'+class_teacher+',',regination,' ',exam,' ','CLASS:'+std,' ',session)\n",
    "    header()\n",
    "    body()\n",
    "    end()\n",
    "    _count()\n",
    "    achiver()\n",
    "print('\\n')\n",
    "result()"
   ]
  },
  {
   "cell_type": "code",
   "execution_count": 1,
   "id": "a5683358-3460-499d-a404-c1039a141c30",
   "metadata": {},
   "outputs": [
    {
     "name": "stdin",
     "output_type": "stream",
     "text": [
      "ENTER THE SCHOOL NAME : jawahar navodaya vidyalaya chandrapur\n",
      "\n",
      "\tENTER THE CLASS AND SECTION (ex.-VIIB):  viib\n",
      "\n",
      "\tENTER THE NAME OF CLASS TEACHER :  vivek singh\n",
      "\n",
      "\tENTER THE REGINATION OF  THE CLASS TEACHER :  tgt maths\n",
      "\n",
      "\tENTER THE GOING SESSION :  2021-22\n",
      "\n",
      "\tENTER THE EXAM :  mid-sem\n",
      "ENTER NO. OF SUBJECTS :  5\n"
     ]
    },
    {
     "name": "stdout",
     "output_type": "stream",
     "text": [
      "\n",
      "     #ENTER THE NAME OF SUBJECTS.        \n",
      "\n",
      "#IT SHOULD HAVE LESS THAN 7 LETTERS \n",
      "\t 1. "
     ]
    },
    {
     "name": "stdin",
     "output_type": "stream",
     "text": [
      " mahts\n"
     ]
    },
    {
     "name": "stdout",
     "output_type": "stream",
     "text": [
      "\t 2. "
     ]
    },
    {
     "name": "stdin",
     "output_type": "stream",
     "text": [
      " hindi\n"
     ]
    },
    {
     "name": "stdout",
     "output_type": "stream",
     "text": [
      "\t 3. "
     ]
    },
    {
     "name": "stdin",
     "output_type": "stream",
     "text": [
      " english\n"
     ]
    },
    {
     "name": "stdout",
     "output_type": "stream",
     "text": [
      "\t 4. "
     ]
    },
    {
     "name": "stdin",
     "output_type": "stream",
     "text": [
      " science\n"
     ]
    },
    {
     "name": "stdout",
     "output_type": "stream",
     "text": [
      "\t 5. "
     ]
    },
    {
     "name": "stdin",
     "output_type": "stream",
     "text": [
      " history\n"
     ]
    },
    {
     "name": "stdout",
     "output_type": "stream",
     "text": [
      "\n",
      "\t  1 : MAHTS\n",
      "\n",
      "\t  2 : HINDI\n",
      "\n",
      "\t  3 : ENGLISH\n",
      "\n",
      "\t  4 : SCIENCE\n",
      "\n",
      "\t  5 : HISTORY\n"
     ]
    },
    {
     "name": "stdin",
     "output_type": "stream",
     "text": [
      "\n",
      "\t  #YOU WANT TO UPDATE\n",
      "                      1.YES\n",
      "                      2.NO\n",
      "                      :  2\n"
     ]
    },
    {
     "name": "stdout",
     "output_type": "stream",
     "text": [
      "\n",
      "#ENTER OUTOFF MARKS OF SUBJECT\n",
      "\t MAHTS   : "
     ]
    },
    {
     "name": "stdin",
     "output_type": "stream",
     "text": [
      " 50\n"
     ]
    },
    {
     "name": "stdout",
     "output_type": "stream",
     "text": [
      "\t HINDI   : "
     ]
    },
    {
     "name": "stdin",
     "output_type": "stream",
     "text": [
      " 50\n"
     ]
    },
    {
     "name": "stdout",
     "output_type": "stream",
     "text": [
      "\t ENGLISH : "
     ]
    },
    {
     "name": "stdin",
     "output_type": "stream",
     "text": [
      " 50\n"
     ]
    },
    {
     "name": "stdout",
     "output_type": "stream",
     "text": [
      "\t SCIENCE : "
     ]
    },
    {
     "name": "stdin",
     "output_type": "stream",
     "text": [
      " 50\n"
     ]
    },
    {
     "name": "stdout",
     "output_type": "stream",
     "text": [
      "\t HISTORY : "
     ]
    },
    {
     "name": "stdin",
     "output_type": "stream",
     "text": [
      " 50\n"
     ]
    },
    {
     "name": "stdout",
     "output_type": "stream",
     "text": [
      "\n",
      "\t  MAHTS   : 50\n",
      "\n",
      "\t  HINDI   : 50\n",
      "\n",
      "\t  ENGLISH : 50\n",
      "\n",
      "\t  SCIENCE : 50\n",
      "\n",
      "\t  HISTORY : 50\n"
     ]
    },
    {
     "name": "stdin",
     "output_type": "stream",
     "text": [
      "\n",
      "\t  #YOU WANT TO UPDATE\n",
      "                      1.YES\n",
      "                      2.NO\n",
      "                      :  2\n",
      "\n",
      "ENTER NO. OF STUDENTS :  15\n"
     ]
    },
    {
     "name": "stdout",
     "output_type": "stream",
     "text": [
      "\n",
      " #ENTER THE NAMES OF STUDENTS  (ex. jaiwardhan g)\n",
      "\t 1. "
     ]
    },
    {
     "name": "stdin",
     "output_type": "stream",
     "text": [
      " vijay h\n"
     ]
    },
    {
     "name": "stdout",
     "output_type": "stream",
     "text": [
      "\t 2. "
     ]
    },
    {
     "name": "stdin",
     "output_type": "stream",
     "text": [
      " hasan a\n"
     ]
    },
    {
     "name": "stdout",
     "output_type": "stream",
     "text": [
      "\t 3. "
     ]
    },
    {
     "name": "stdin",
     "output_type": "stream",
     "text": [
      " misioin k\n"
     ]
    },
    {
     "name": "stdout",
     "output_type": "stream",
     "text": [
      "\t 4. "
     ]
    },
    {
     "name": "stdin",
     "output_type": "stream",
     "text": [
      " gujju b\n"
     ]
    },
    {
     "name": "stdout",
     "output_type": "stream",
     "text": [
      "\t 5. "
     ]
    },
    {
     "name": "stdin",
     "output_type": "stream",
     "text": [
      " hina t\n"
     ]
    },
    {
     "name": "stdout",
     "output_type": "stream",
     "text": [
      "\t 6. "
     ]
    },
    {
     "name": "stdin",
     "output_type": "stream",
     "text": [
      " meena p\n"
     ]
    },
    {
     "name": "stdout",
     "output_type": "stream",
     "text": [
      "\t 7. "
     ]
    },
    {
     "name": "stdin",
     "output_type": "stream",
     "text": [
      " jeevan s\n"
     ]
    },
    {
     "name": "stdout",
     "output_type": "stream",
     "text": [
      "\t 8. "
     ]
    },
    {
     "name": "stdin",
     "output_type": "stream",
     "text": [
      " geeta k\n"
     ]
    },
    {
     "name": "stdout",
     "output_type": "stream",
     "text": [
      "\t 9. "
     ]
    },
    {
     "name": "stdin",
     "output_type": "stream",
     "text": [
      " chetan m\n"
     ]
    },
    {
     "name": "stdout",
     "output_type": "stream",
     "text": [
      "\t 10. "
     ]
    },
    {
     "name": "stdin",
     "output_type": "stream",
     "text": [
      " sanskruti o\n"
     ]
    },
    {
     "name": "stdout",
     "output_type": "stream",
     "text": [
      "\t 11. "
     ]
    },
    {
     "name": "stdin",
     "output_type": "stream",
     "text": [
      " kirti j\n"
     ]
    },
    {
     "name": "stdout",
     "output_type": "stream",
     "text": [
      "\t 12. "
     ]
    },
    {
     "name": "stdin",
     "output_type": "stream",
     "text": [
      " beenio h\n"
     ]
    },
    {
     "name": "stdout",
     "output_type": "stream",
     "text": [
      "\t 13. "
     ]
    },
    {
     "name": "stdin",
     "output_type": "stream",
     "text": [
      " aman u\n"
     ]
    },
    {
     "name": "stdout",
     "output_type": "stream",
     "text": [
      "\t 14. "
     ]
    },
    {
     "name": "stdin",
     "output_type": "stream",
     "text": [
      " bola j\n"
     ]
    },
    {
     "name": "stdout",
     "output_type": "stream",
     "text": [
      "\t 15. "
     ]
    },
    {
     "name": "stdin",
     "output_type": "stream",
     "text": [
      " krisna p\n"
     ]
    },
    {
     "name": "stdout",
     "output_type": "stream",
     "text": [
      "\n",
      "\t  1 : Vijay H.\n",
      "\n",
      "\t  2 : Hasan A.\n",
      "\n",
      "\t  3 : Misioin K.\n",
      "\n",
      "\t  4 : Gujju B.\n",
      "\n",
      "\t  5 : Hina T.\n",
      "\n",
      "\t  6 : Meena P.\n",
      "\n",
      "\t  7 : Jeevan S.\n",
      "\n",
      "\t  8 : Geeta K.\n",
      "\n",
      "\t  9 : Chetan M.\n",
      "\n",
      "\t  10 : Sanskruti O.\n",
      "\n",
      "\t  11 : Kirti J.\n",
      "\n",
      "\t  12 : Beenio H.\n",
      "\n",
      "\t  13 : Aman U.\n",
      "\n",
      "\t  14 : Bola J.\n",
      "\n",
      "\t  15 : Krisna P.\n"
     ]
    },
    {
     "name": "stdin",
     "output_type": "stream",
     "text": [
      "\n",
      "\t  #YOU WANT TO UPDATE\n",
      "                      1.YES\n",
      "                      2.NO\n",
      "                      :  2\n"
     ]
    },
    {
     "name": "stdout",
     "output_type": "stream",
     "text": [
      "\n",
      " #ENTER THE MARKS\n",
      "\n",
      "\t MAHTS\n",
      "\n",
      "\t Vijay H.      : "
     ]
    },
    {
     "name": "stdin",
     "output_type": "stream",
     "text": [
      " 45\n"
     ]
    },
    {
     "name": "stdout",
     "output_type": "stream",
     "text": [
      "\t Hasan A.      : "
     ]
    },
    {
     "name": "stdin",
     "output_type": "stream",
     "text": [
      " 24\n"
     ]
    },
    {
     "name": "stdout",
     "output_type": "stream",
     "text": [
      "\t Misioin K.    : "
     ]
    },
    {
     "name": "stdin",
     "output_type": "stream",
     "text": [
      " 35\n"
     ]
    },
    {
     "name": "stdout",
     "output_type": "stream",
     "text": [
      "\t Gujju B.      : "
     ]
    },
    {
     "name": "stdin",
     "output_type": "stream",
     "text": [
      " 16\n"
     ]
    },
    {
     "name": "stdout",
     "output_type": "stream",
     "text": [
      "\t Hina T.       : "
     ]
    },
    {
     "name": "stdin",
     "output_type": "stream",
     "text": [
      " 24\n"
     ]
    },
    {
     "name": "stdout",
     "output_type": "stream",
     "text": [
      "\t Meena P.      : "
     ]
    },
    {
     "name": "stdin",
     "output_type": "stream",
     "text": [
      " 45\n"
     ]
    },
    {
     "name": "stdout",
     "output_type": "stream",
     "text": [
      "\t Jeevan S.     : "
     ]
    },
    {
     "name": "stdin",
     "output_type": "stream",
     "text": [
      " 56\n"
     ]
    },
    {
     "name": "stdout",
     "output_type": "stream",
     "text": [
      "\n",
      "\tINVALID INPUT!!!\n",
      "             ENTER AGAIN \n",
      "\t Jeevan S.: "
     ]
    },
    {
     "name": "stdin",
     "output_type": "stream",
     "text": [
      " 35\n"
     ]
    },
    {
     "name": "stdout",
     "output_type": "stream",
     "text": [
      "\t Geeta K.      : "
     ]
    },
    {
     "name": "stdin",
     "output_type": "stream",
     "text": [
      " 28\n"
     ]
    },
    {
     "name": "stdout",
     "output_type": "stream",
     "text": [
      "\t Chetan M.     : "
     ]
    },
    {
     "name": "stdin",
     "output_type": "stream",
     "text": [
      " 41\n"
     ]
    },
    {
     "name": "stdout",
     "output_type": "stream",
     "text": [
      "\t Sanskruti O.  : "
     ]
    },
    {
     "name": "stdin",
     "output_type": "stream",
     "text": [
      " 33\n"
     ]
    },
    {
     "name": "stdout",
     "output_type": "stream",
     "text": [
      "\t Kirti J.      : "
     ]
    },
    {
     "name": "stdin",
     "output_type": "stream",
     "text": [
      " 39\n"
     ]
    },
    {
     "name": "stdout",
     "output_type": "stream",
     "text": [
      "\t Beenio H.     : "
     ]
    },
    {
     "name": "stdin",
     "output_type": "stream",
     "text": [
      " 42\n"
     ]
    },
    {
     "name": "stdout",
     "output_type": "stream",
     "text": [
      "\t Aman U.       : "
     ]
    },
    {
     "name": "stdin",
     "output_type": "stream",
     "text": [
      " 28\n"
     ]
    },
    {
     "name": "stdout",
     "output_type": "stream",
     "text": [
      "\t Bola J.       : "
     ]
    },
    {
     "name": "stdin",
     "output_type": "stream",
     "text": [
      " 39\n"
     ]
    },
    {
     "name": "stdout",
     "output_type": "stream",
     "text": [
      "\t Krisna P.     : "
     ]
    },
    {
     "name": "stdin",
     "output_type": "stream",
     "text": [
      " 37\n"
     ]
    },
    {
     "name": "stdout",
     "output_type": "stream",
     "text": [
      "\n",
      "\t  1 : 45\n",
      "\n",
      "\t  2 : 24\n",
      "\n",
      "\t  3 : 35\n",
      "\n",
      "\t  4 : 16\n",
      "\n",
      "\t  5 : 24\n",
      "\n",
      "\t  6 : 45\n",
      "\n",
      "\t  7 : 35\n",
      "\n",
      "\t  8 : 28\n",
      "\n",
      "\t  9 : 41\n",
      "\n",
      "\t  10 : 33\n",
      "\n",
      "\t  11 : 39\n",
      "\n",
      "\t  12 : 42\n",
      "\n",
      "\t  13 : 28\n",
      "\n",
      "\t  14 : 39\n",
      "\n",
      "\t  15 : 37\n"
     ]
    },
    {
     "name": "stdin",
     "output_type": "stream",
     "text": [
      "\n",
      "\t  #YOU WANT TO UPDATE\n",
      "                      1.YES\n",
      "                      2.NO\n",
      "                      :  2\n"
     ]
    },
    {
     "name": "stdout",
     "output_type": "stream",
     "text": [
      "\n",
      "\t HINDI\n",
      "\n",
      "\t Vijay H.      : "
     ]
    },
    {
     "name": "stdin",
     "output_type": "stream",
     "text": [
      " 45\n"
     ]
    },
    {
     "name": "stdout",
     "output_type": "stream",
     "text": [
      "\t Hasan A.      : "
     ]
    },
    {
     "name": "stdin",
     "output_type": "stream",
     "text": [
      " 43\n"
     ]
    },
    {
     "name": "stdout",
     "output_type": "stream",
     "text": [
      "\t Misioin K.    : "
     ]
    },
    {
     "name": "stdin",
     "output_type": "stream",
     "text": [
      " 42\n"
     ]
    },
    {
     "name": "stdout",
     "output_type": "stream",
     "text": [
      "\t Gujju B.      : "
     ]
    },
    {
     "name": "stdin",
     "output_type": "stream",
     "text": [
      " 35\n"
     ]
    },
    {
     "name": "stdout",
     "output_type": "stream",
     "text": [
      "\t Hina T.       : "
     ]
    },
    {
     "name": "stdin",
     "output_type": "stream",
     "text": [
      " 36\n"
     ]
    },
    {
     "name": "stdout",
     "output_type": "stream",
     "text": [
      "\t Meena P.      : "
     ]
    },
    {
     "name": "stdin",
     "output_type": "stream",
     "text": [
      " 28\n"
     ]
    },
    {
     "name": "stdout",
     "output_type": "stream",
     "text": [
      "\t Jeevan S.     : "
     ]
    },
    {
     "name": "stdin",
     "output_type": "stream",
     "text": [
      " 48\n"
     ]
    },
    {
     "name": "stdout",
     "output_type": "stream",
     "text": [
      "\t Geeta K.      : "
     ]
    },
    {
     "name": "stdin",
     "output_type": "stream",
     "text": [
      " 39\n"
     ]
    },
    {
     "name": "stdout",
     "output_type": "stream",
     "text": [
      "\t Chetan M.     : "
     ]
    },
    {
     "name": "stdin",
     "output_type": "stream",
     "text": [
      " 36\n"
     ]
    },
    {
     "name": "stdout",
     "output_type": "stream",
     "text": [
      "\t Sanskruti O.  : "
     ]
    },
    {
     "name": "stdin",
     "output_type": "stream",
     "text": [
      " 34\n"
     ]
    },
    {
     "name": "stdout",
     "output_type": "stream",
     "text": [
      "\t Kirti J.      : "
     ]
    },
    {
     "name": "stdin",
     "output_type": "stream",
     "text": [
      " 38\n"
     ]
    },
    {
     "name": "stdout",
     "output_type": "stream",
     "text": [
      "\t Beenio H.     : "
     ]
    },
    {
     "name": "stdin",
     "output_type": "stream",
     "text": [
      " 42\n"
     ]
    },
    {
     "name": "stdout",
     "output_type": "stream",
     "text": [
      "\t Aman U.       : "
     ]
    },
    {
     "name": "stdin",
     "output_type": "stream",
     "text": [
      " 43\n"
     ]
    },
    {
     "name": "stdout",
     "output_type": "stream",
     "text": [
      "\t Bola J.       : "
     ]
    },
    {
     "name": "stdin",
     "output_type": "stream",
     "text": [
      " 47\n"
     ]
    },
    {
     "name": "stdout",
     "output_type": "stream",
     "text": [
      "\t Krisna P.     : "
     ]
    },
    {
     "name": "stdin",
     "output_type": "stream",
     "text": [
      " 32\n"
     ]
    },
    {
     "name": "stdout",
     "output_type": "stream",
     "text": [
      "\n",
      "\t  1 : 45\n",
      "\n",
      "\t  2 : 43\n",
      "\n",
      "\t  3 : 42\n",
      "\n",
      "\t  4 : 35\n",
      "\n",
      "\t  5 : 36\n",
      "\n",
      "\t  6 : 28\n",
      "\n",
      "\t  7 : 48\n",
      "\n",
      "\t  8 : 39\n",
      "\n",
      "\t  9 : 36\n",
      "\n",
      "\t  10 : 34\n",
      "\n",
      "\t  11 : 38\n",
      "\n",
      "\t  12 : 42\n",
      "\n",
      "\t  13 : 43\n",
      "\n",
      "\t  14 : 47\n",
      "\n",
      "\t  15 : 32\n"
     ]
    },
    {
     "name": "stdin",
     "output_type": "stream",
     "text": [
      "\n",
      "\t  #YOU WANT TO UPDATE\n",
      "                      1.YES\n",
      "                      2.NO\n",
      "                      :  2\n"
     ]
    },
    {
     "name": "stdout",
     "output_type": "stream",
     "text": [
      "\n",
      "\t ENGLISH\n",
      "\n",
      "\t Vijay H.      : "
     ]
    },
    {
     "name": "stdin",
     "output_type": "stream",
     "text": [
      " 34\n"
     ]
    },
    {
     "name": "stdout",
     "output_type": "stream",
     "text": [
      "\t Hasan A.      : "
     ]
    },
    {
     "name": "stdin",
     "output_type": "stream",
     "text": [
      " 35\n"
     ]
    },
    {
     "name": "stdout",
     "output_type": "stream",
     "text": [
      "\t Misioin K.    : "
     ]
    },
    {
     "name": "stdin",
     "output_type": "stream",
     "text": [
      " 36\n"
     ]
    },
    {
     "name": "stdout",
     "output_type": "stream",
     "text": [
      "\t Gujju B.      : "
     ]
    },
    {
     "name": "stdin",
     "output_type": "stream",
     "text": [
      " 37\n"
     ]
    },
    {
     "name": "stdout",
     "output_type": "stream",
     "text": [
      "\t Hina T.       : "
     ]
    },
    {
     "name": "stdin",
     "output_type": "stream",
     "text": [
      " 38\n"
     ]
    },
    {
     "name": "stdout",
     "output_type": "stream",
     "text": [
      "\t Meena P.      : "
     ]
    },
    {
     "name": "stdin",
     "output_type": "stream",
     "text": [
      " 39\n"
     ]
    },
    {
     "name": "stdout",
     "output_type": "stream",
     "text": [
      "\t Jeevan S.     : "
     ]
    },
    {
     "name": "stdin",
     "output_type": "stream",
     "text": [
      " 40\n"
     ]
    },
    {
     "name": "stdout",
     "output_type": "stream",
     "text": [
      "\t Geeta K.      : "
     ]
    },
    {
     "name": "stdin",
     "output_type": "stream",
     "text": [
      " 41\n"
     ]
    },
    {
     "name": "stdout",
     "output_type": "stream",
     "text": [
      "\t Chetan M.     : "
     ]
    },
    {
     "name": "stdin",
     "output_type": "stream",
     "text": [
      " 25\n"
     ]
    },
    {
     "name": "stdout",
     "output_type": "stream",
     "text": [
      "\t Sanskruti O.  : "
     ]
    },
    {
     "name": "stdin",
     "output_type": "stream",
     "text": [
      " 29\n"
     ]
    },
    {
     "name": "stdout",
     "output_type": "stream",
     "text": [
      "\t Kirti J.      : "
     ]
    },
    {
     "name": "stdin",
     "output_type": "stream",
     "text": [
      " 28\n"
     ]
    },
    {
     "name": "stdout",
     "output_type": "stream",
     "text": [
      "\t Beenio H.     : "
     ]
    },
    {
     "name": "stdin",
     "output_type": "stream",
     "text": [
      " 27\n"
     ]
    },
    {
     "name": "stdout",
     "output_type": "stream",
     "text": [
      "\t Aman U.       : "
     ]
    },
    {
     "name": "stdin",
     "output_type": "stream",
     "text": [
      " 30\n"
     ]
    },
    {
     "name": "stdout",
     "output_type": "stream",
     "text": [
      "\t Bola J.       : "
     ]
    },
    {
     "name": "stdin",
     "output_type": "stream",
     "text": [
      " 40\n"
     ]
    },
    {
     "name": "stdout",
     "output_type": "stream",
     "text": [
      "\t Krisna P.     : "
     ]
    },
    {
     "name": "stdin",
     "output_type": "stream",
     "text": [
      " 41\n"
     ]
    },
    {
     "name": "stdout",
     "output_type": "stream",
     "text": [
      "\n",
      "\t  1 : 34\n",
      "\n",
      "\t  2 : 35\n",
      "\n",
      "\t  3 : 36\n",
      "\n",
      "\t  4 : 37\n",
      "\n",
      "\t  5 : 38\n",
      "\n",
      "\t  6 : 39\n",
      "\n",
      "\t  7 : 40\n",
      "\n",
      "\t  8 : 41\n",
      "\n",
      "\t  9 : 25\n",
      "\n",
      "\t  10 : 29\n",
      "\n",
      "\t  11 : 28\n",
      "\n",
      "\t  12 : 27\n",
      "\n",
      "\t  13 : 30\n",
      "\n",
      "\t  14 : 40\n",
      "\n",
      "\t  15 : 41\n"
     ]
    },
    {
     "name": "stdin",
     "output_type": "stream",
     "text": [
      "\n",
      "\t  #YOU WANT TO UPDATE\n",
      "                      1.YES\n",
      "                      2.NO\n",
      "                      :  2\n"
     ]
    },
    {
     "name": "stdout",
     "output_type": "stream",
     "text": [
      "\n",
      "\t SCIENCE\n",
      "\n",
      "\t Vijay H.      : "
     ]
    },
    {
     "name": "stdin",
     "output_type": "stream",
     "text": [
      " 36\n"
     ]
    },
    {
     "name": "stdout",
     "output_type": "stream",
     "text": [
      "\t Hasan A.      : "
     ]
    },
    {
     "name": "stdin",
     "output_type": "stream",
     "text": [
      " 37\n"
     ]
    },
    {
     "name": "stdout",
     "output_type": "stream",
     "text": [
      "\t Misioin K.    : "
     ]
    },
    {
     "name": "stdin",
     "output_type": "stream",
     "text": [
      " 38\n"
     ]
    },
    {
     "name": "stdout",
     "output_type": "stream",
     "text": [
      "\t Gujju B.      : "
     ]
    },
    {
     "name": "stdin",
     "output_type": "stream",
     "text": [
      " 39\n"
     ]
    },
    {
     "name": "stdout",
     "output_type": "stream",
     "text": [
      "\t Hina T.       : "
     ]
    },
    {
     "name": "stdin",
     "output_type": "stream",
     "text": [
      " 40\n"
     ]
    },
    {
     "name": "stdout",
     "output_type": "stream",
     "text": [
      "\t Meena P.      : "
     ]
    },
    {
     "name": "stdin",
     "output_type": "stream",
     "text": [
      " 41\n"
     ]
    },
    {
     "name": "stdout",
     "output_type": "stream",
     "text": [
      "\t Jeevan S.     : "
     ]
    },
    {
     "name": "stdin",
     "output_type": "stream",
     "text": [
      " 42\n"
     ]
    },
    {
     "name": "stdout",
     "output_type": "stream",
     "text": [
      "\t Geeta K.      : "
     ]
    },
    {
     "name": "stdin",
     "output_type": "stream",
     "text": [
      " 43\n"
     ]
    },
    {
     "name": "stdout",
     "output_type": "stream",
     "text": [
      "\t Chetan M.     : "
     ]
    },
    {
     "name": "stdin",
     "output_type": "stream",
     "text": [
      " 35\n"
     ]
    },
    {
     "name": "stdout",
     "output_type": "stream",
     "text": [
      "\t Sanskruti O.  : "
     ]
    },
    {
     "name": "stdin",
     "output_type": "stream",
     "text": [
      " 36\n"
     ]
    },
    {
     "name": "stdout",
     "output_type": "stream",
     "text": [
      "\t Kirti J.      : "
     ]
    },
    {
     "name": "stdin",
     "output_type": "stream",
     "text": [
      " 37\n"
     ]
    },
    {
     "name": "stdout",
     "output_type": "stream",
     "text": [
      "\t Beenio H.     : "
     ]
    },
    {
     "name": "stdin",
     "output_type": "stream",
     "text": [
      " 38\n"
     ]
    },
    {
     "name": "stdout",
     "output_type": "stream",
     "text": [
      "\t Aman U.       : "
     ]
    },
    {
     "name": "stdin",
     "output_type": "stream",
     "text": [
      " 39\n"
     ]
    },
    {
     "name": "stdout",
     "output_type": "stream",
     "text": [
      "\t Bola J.       : "
     ]
    },
    {
     "name": "stdin",
     "output_type": "stream",
     "text": [
      " 29\n"
     ]
    },
    {
     "name": "stdout",
     "output_type": "stream",
     "text": [
      "\t Krisna P.     : "
     ]
    },
    {
     "name": "stdin",
     "output_type": "stream",
     "text": [
      " 28\n"
     ]
    },
    {
     "name": "stdout",
     "output_type": "stream",
     "text": [
      "\n",
      "\t  1 : 36\n",
      "\n",
      "\t  2 : 37\n",
      "\n",
      "\t  3 : 38\n",
      "\n",
      "\t  4 : 39\n",
      "\n",
      "\t  5 : 40\n",
      "\n",
      "\t  6 : 41\n",
      "\n",
      "\t  7 : 42\n",
      "\n",
      "\t  8 : 43\n",
      "\n",
      "\t  9 : 35\n",
      "\n",
      "\t  10 : 36\n",
      "\n",
      "\t  11 : 37\n",
      "\n",
      "\t  12 : 38\n",
      "\n",
      "\t  13 : 39\n",
      "\n",
      "\t  14 : 29\n",
      "\n",
      "\t  15 : 28\n"
     ]
    },
    {
     "name": "stdin",
     "output_type": "stream",
     "text": [
      "\n",
      "\t  #YOU WANT TO UPDATE\n",
      "                      1.YES\n",
      "                      2.NO\n",
      "                      :  2\n"
     ]
    },
    {
     "name": "stdout",
     "output_type": "stream",
     "text": [
      "\n",
      "\t HISTORY\n",
      "\n",
      "\t Vijay H.      : "
     ]
    },
    {
     "name": "stdin",
     "output_type": "stream",
     "text": [
      " 38\n"
     ]
    },
    {
     "name": "stdout",
     "output_type": "stream",
     "text": [
      "\t Hasan A.      : "
     ]
    },
    {
     "name": "stdin",
     "output_type": "stream",
     "text": [
      " 34\n"
     ]
    },
    {
     "name": "stdout",
     "output_type": "stream",
     "text": [
      "\t Misioin K.    : "
     ]
    },
    {
     "name": "stdin",
     "output_type": "stream",
     "text": [
      " 36\n"
     ]
    },
    {
     "name": "stdout",
     "output_type": "stream",
     "text": [
      "\t Gujju B.      : "
     ]
    },
    {
     "name": "stdin",
     "output_type": "stream",
     "text": [
      " 37\n"
     ]
    },
    {
     "name": "stdout",
     "output_type": "stream",
     "text": [
      "\t Hina T.       : "
     ]
    },
    {
     "name": "stdin",
     "output_type": "stream",
     "text": [
      " 39\n"
     ]
    },
    {
     "name": "stdout",
     "output_type": "stream",
     "text": [
      "\t Meena P.      : "
     ]
    },
    {
     "name": "stdin",
     "output_type": "stream",
     "text": [
      " 40\n"
     ]
    },
    {
     "name": "stdout",
     "output_type": "stream",
     "text": [
      "\t Jeevan S.     : "
     ]
    },
    {
     "name": "stdin",
     "output_type": "stream",
     "text": [
      " 41\n"
     ]
    },
    {
     "name": "stdout",
     "output_type": "stream",
     "text": [
      "\t Geeta K.      : "
     ]
    },
    {
     "name": "stdin",
     "output_type": "stream",
     "text": [
      " 42\n"
     ]
    },
    {
     "name": "stdout",
     "output_type": "stream",
     "text": [
      "\t Chetan M.     : "
     ]
    },
    {
     "name": "stdin",
     "output_type": "stream",
     "text": [
      " 43\n"
     ]
    },
    {
     "name": "stdout",
     "output_type": "stream",
     "text": [
      "\t Sanskruti O.  : "
     ]
    },
    {
     "name": "stdin",
     "output_type": "stream",
     "text": [
      " 46\n"
     ]
    },
    {
     "name": "stdout",
     "output_type": "stream",
     "text": [
      "\t Kirti J.      : "
     ]
    },
    {
     "name": "stdin",
     "output_type": "stream",
     "text": [
      " 44\n"
     ]
    },
    {
     "name": "stdout",
     "output_type": "stream",
     "text": [
      "\t Beenio H.     : "
     ]
    },
    {
     "name": "stdin",
     "output_type": "stream",
     "text": [
      " 45\n"
     ]
    },
    {
     "name": "stdout",
     "output_type": "stream",
     "text": [
      "\t Aman U.       : "
     ]
    },
    {
     "name": "stdin",
     "output_type": "stream",
     "text": [
      " 29\n"
     ]
    },
    {
     "name": "stdout",
     "output_type": "stream",
     "text": [
      "\t Bola J.       : "
     ]
    },
    {
     "name": "stdin",
     "output_type": "stream",
     "text": [
      " 28\n"
     ]
    },
    {
     "name": "stdout",
     "output_type": "stream",
     "text": [
      "\t Krisna P.     : "
     ]
    },
    {
     "name": "stdin",
     "output_type": "stream",
     "text": [
      " 35\n"
     ]
    },
    {
     "name": "stdout",
     "output_type": "stream",
     "text": [
      "\n",
      "\t  1 : 38\n",
      "\n",
      "\t  2 : 34\n",
      "\n",
      "\t  3 : 36\n",
      "\n",
      "\t  4 : 37\n",
      "\n",
      "\t  5 : 39\n",
      "\n",
      "\t  6 : 40\n",
      "\n",
      "\t  7 : 41\n",
      "\n",
      "\t  8 : 42\n",
      "\n",
      "\t  9 : 43\n",
      "\n",
      "\t  10 : 46\n",
      "\n",
      "\t  11 : 44\n",
      "\n",
      "\t  12 : 45\n",
      "\n",
      "\t  13 : 29\n",
      "\n",
      "\t  14 : 28\n",
      "\n",
      "\t  15 : 35\n"
     ]
    },
    {
     "name": "stdin",
     "output_type": "stream",
     "text": [
      "\n",
      "\t  #YOU WANT TO UPDATE\n",
      "                      1.YES\n",
      "                      2.NO\n",
      "                      :  2\n",
      "\n",
      "\t # RESULT IS COMPLETED\n",
      "            # PRESS ENTER \n"
     ]
    },
    {
     "name": "stdout",
     "output_type": "stream",
     "text": [
      "\n",
      "\n",
      "\n",
      "                   JAWAHAR NAVODAYA VIDYALAYA CHANDRAPUR                  \n",
      "CLASS TEACHER:VIVEK SINGH, TGT MATHS   MID-SEM   CLASS:VII B   2021-22\n",
      "+--+-------------+---+---+---+---+---+---+---+---+---+---+---+---+-----+--+\n",
      "|  |             |               SUBJECTS                | TOTAL |     |R |\n",
      "|Sr| NAME OF THE +---+---+---+---+---+---+---+---+---+---+       |  %  |A |\n",
      "|  |             | MAHTS | HINDI |ENGLISH|SCIENCE|HISTORY| MARKS |     |N |\n",
      "|No|  STUDENTS   +---+---+---+---+---+---+---+---+---+---+-------| AGE |k |\n",
      "|  |             |50 |100|50 |100|50 |100|50 |100|50 |100|250|500|     |S |\n",
      "+--+-------------+---+---+---+---+---+---+---+---+---+---+---+---+-----+--+\n",
      "|1 |Vijay H.     |45 |90 |45 |90 |34 |68 |36 |72 |38 |76 |198|396|79.2 | 2|\n",
      "+--+-------------+---+---+---+---+---+---+---+---+---+---+---+---+-----+--+\n",
      "|2 |Hasan A.     |24 |48 |43 |86 |35 |70 |37 |74 |34 |68 |173|346|69.2 |12|\n",
      "+--+-------------+---+---+---+---+---+---+---+---+---+---+---+---+-----+--+\n",
      "|3 |Misioin K.   |35 |70 |42 |84 |36 |72 |38 |76 |36 |72 |187|374|74.8 | 6|\n",
      "+--+-------------+---+---+---+---+---+---+---+---+---+---+---+---+-----+--+\n",
      "|4 |Gujju B.     |16 |32 |35 |70 |37 |74 |39 |78 |37 |74 |164|328|65.6 |15|\n",
      "+--+-------------+---+---+---+---+---+---+---+---+---+---+---+---+-----+--+\n",
      "|5 |Hina T.      |24 |48 |36 |72 |38 |76 |40 |80 |39 |78 |177|354|70.8 |11|\n",
      "+--+-------------+---+---+---+---+---+---+---+---+---+---+---+---+-----+--+\n",
      "|6 |Meena P.     |45 |90 |28 |56 |39 |78 |41 |82 |40 |80 |193|386|77.2 | 4|\n",
      "+--+-------------+---+---+---+---+---+---+---+---+---+---+---+---+-----+--+\n",
      "|7 |Jeevan S.    |35 |70 |48 |96 |40 |80 |42 |84 |41 |82 |206|412|82.4 | 1|\n",
      "+--+-------------+---+---+---+---+---+---+---+---+---+---+---+---+-----+--+\n",
      "|8 |Geeta K.     |28 |56 |39 |78 |41 |82 |43 |86 |42 |84 |193|386|77.2 | 4|\n",
      "+--+-------------+---+---+---+---+---+---+---+---+---+---+---+---+-----+--+\n",
      "|9 |Chetan M.    |41 |82 |36 |72 |25 |50 |35 |70 |43 |86 |180|360|72.0 | 9|\n",
      "+--+-------------+---+---+---+---+---+---+---+---+---+---+---+---+-----+--+\n",
      "|10|Sanskruti O. |33 |66 |34 |68 |29 |58 |36 |72 |46 |92 |178|356|71.2 |10|\n",
      "+--+-------------+---+---+---+---+---+---+---+---+---+---+---+---+-----+--+\n",
      "|11|Kirti J.     |39 |78 |38 |76 |28 |56 |37 |74 |44 |88 |186|372|74.4 | 7|\n",
      "+--+-------------+---+---+---+---+---+---+---+---+---+---+---+---+-----+--+\n",
      "|12|Beenio H.    |42 |84 |42 |84 |27 |54 |38 |76 |45 |90 |194|388|77.6 | 3|\n",
      "+--+-------------+---+---+---+---+---+---+---+---+---+---+---+---+-----+--+\n",
      "|13|Aman U.      |28 |56 |43 |86 |30 |60 |39 |78 |29 |58 |169|338|67.6 |14|\n",
      "+--+-------------+---+---+---+---+---+---+---+---+---+---+---+---+-----+--+\n",
      "|14|Bola J.      |39 |78 |47 |94 |40 |80 |29 |58 |28 |56 |183|366|73.2 | 8|\n",
      "+--+-------------+---+---+---+---+---+---+---+---+---+---+---+---+-----+--+\n",
      "|15|Krisna P.    |37 |74 |32 |64 |41 |82 |28 |56 |35 |70 |173|346|69.2 |12|\n",
      "+--+-------------+---+---+---+---+---+---+---+---+---+---+---+---+-----+--+\n",
      "|    TOTAL MARKS | 1022  | 1176  | 1040  | 1116  | 1154  | 5508  |        |\n",
      "+--+-------------+---+---+---+---+---+---+---+---+---+---+---+---+-----+--+\n",
      "|SUBJECT AVERAGE | 68.13 | 78.4  | 69.33 | 74.4  | 76.93 |CLASS AVG :73.44|\n",
      "+--+-------------+---+---+---+---+---+---+---+---+---+---+---+---+-----+--+\n",
      "\n",
      "   +-------------+-------+-------+-------+-------+-------+-------+\n",
      "   |  SUBJECTS   |  <33  | 33-59 | 60-74 | 75-89 | 90-94 | 95=<  |\n",
      "   +-------------+-------+-------+-------+-------+-------+-------+\n",
      "   |MAHTS        |   1   |    4   |    4   |    4   |   2   |    0   |\n",
      "   +-------------+-------+-------+-------+-------+-------+-------+\n",
      "   |HINDI        |   0   |    1   |    5   |    6   |   2   |    1   |\n",
      "   +-------------+-------+-------+-------+-------+-------+-------+\n",
      "   |ENGLISH      |   0   |    4   |    5   |    6   |   0   |    0   |\n",
      "   +-------------+-------+-------+-------+-------+-------+-------+\n",
      "   |SCIENCE      |   0   |    2   |    5   |    8   |   0   |    0   |\n",
      "   +-------------+-------+-------+-------+-------+-------+-------+\n",
      "   |HISTORY      |   0   |    2   |    4   |    7   |   2   |    0   |\n",
      "   +-------------+-------+-------+-------+-------+-------+-------+\n",
      "\n",
      "         HIGH ACHIEVERS                              LOW ACHIEVERS       \n",
      "   +---+-------------+-----+                  +---+-------------+-----+\n",
      "   |RNK|  STUDENTS   |% AGE|                  |RNK|  STUDENTS   |% AGE|\n",
      "   +---+-------------+-----+                  +---+-------------+-----+\n",
      "   |1. |  Jeevan S.  | 82.4 |                   |15.|  Gujju B.   |65.6 |\n",
      "   +---+-------------+-----+                  +---+-------------+-----+\n",
      "   |2. |  Vijay H.   | 79.2 |                   |14.|   Aman U.   |67.6 |\n",
      "   +---+-------------+-----+                  +---+-------------+-----+\n",
      "   |3. |  Beenio H.  | 77.6 |                   |13.|  Hasan A.   |69.2 |\n",
      "   +---+-------------+-----+                  +---+-------------+-----+\n"
     ]
    }
   ],
   "source": [
    "school=input('ENTER THE SCHOOL NAME :')\n",
    "school=school.upper()\n",
    "std=input('\\n\\tENTER THE CLASS AND SECTION (ex.-VIIB): ')         \n",
    "std=std.upper()\n",
    "while std.isalpha()==False:\n",
    "    print('''\\n\\t INVALID INPUT\n",
    "               ENTER AGAIN''')\n",
    "    std=input('\\n\\tENTER THE CLASS AND SECTION : ')\n",
    "    std=std.upper()\n",
    "if std[-1]=='A' or std[-1]=='B':                   \n",
    "    std=std[:len(std)-1]+' '+std[len(std)-1]\n",
    "class_teacher=input('\\n\\tENTER THE NAME OF CLASS TEACHER : ')          \n",
    "class_teacher=class_teacher.upper()\n",
    "regination=input('\\n\\tENTER THE REGINATION OF  THE CLASS TEACHER : ')      \n",
    "regination=regination.upper()\n",
    "session=input('\\n\\tENTER THE GOING SESSION : ')                   \n",
    "exam=input('\\n\\tENTER THE EXAM : ') \n",
    "exam=exam.upper()\n",
    "def updater(list_name,len_list):\n",
    "    while True:\n",
    "        for i in range(len_list):\n",
    "            if list_name==t_mrk:    \n",
    "                print('\\n\\t ',subs[i]+(7-len(subs[i]))*' ',':',list_name[i])\n",
    "            else:\n",
    "                print('\\n\\t ',i+1,':',list_name[i])\n",
    "        response=input('''\\n\\t  #YOU WANT TO UPDATE\n",
    "                      1.YES\n",
    "                      2.NO\n",
    "                      : ''')\n",
    "        if response=='1':\n",
    "            intendetion=input('''\\n ENTER THE SERIAL NO.\n",
    "                      :  ''')\n",
    "            while int(intendetion)>len_list or intendetion=='' or intendetion.isdigit()==False:     \n",
    "                print('''\\n\\tINVALID INPUT!!!\n",
    "                 ENTER AGAIN ''')\n",
    "                intendetion=input('''\\n ENTER THE SERIAL NO.\n",
    "                  :  ''') \n",
    "            entry=input('ENTER THE UPDATE VALUE : ')\n",
    "            if list_name==subs:\n",
    "                while len(entry)>7 or entry=='':\n",
    "                    print('''\\n\\tINVALID INPUT!!!\n",
    "                     ENTER AGAIN ''')\n",
    "                    entry=input(' : ')\n",
    "                entry=entry.upper()\n",
    "            list_name[int(intendetion)-1]=entry \n",
    "        else:\n",
    "            break\n",
    "sub_no=input('ENTER NO. OF SUBJECTS : ')    \n",
    "while sub_no=='' or sub_no.isdigit()==False:\n",
    "        print('''\\n\\tINVALID INPUT!!!\n",
    "         ENTER AGAIN ''')\n",
    "        sub_no=input('ENTER NO. OF SUBJECTS : ')\n",
    "sub_no=int(sub_no)\n",
    "subs=[]        \n",
    "t_mrk=[]  \n",
    "print('''\\n     #ENTER THE NAME OF SUBJECTS.        \n",
    "\\n#IT SHOULD HAVE LESS THAN 7 LETTERS ''')\n",
    "for i in range(sub_no):\n",
    "    print('\\t',i+1,end='. ')\n",
    "    entry=input()                                   \n",
    "    while len(entry)>7 or entry=='':\n",
    "        print('''\\n\\tINVALID INPUT!!!\n",
    "         ENTER AGAIN ''')\n",
    "        print('\\t',i+1,end='. ')\n",
    "        entry=input()\n",
    "    entry=entry.upper()\n",
    "    subs.append(entry)\n",
    "updater(subs,sub_no)  \n",
    "print('\\n#ENTER OUTOFF MARKS OF SUBJECT')\n",
    "for i in subs:\n",
    "    print('\\t',i+(7-len(i))*' ',end=' : ')                 \n",
    "    entry=input()\n",
    "    while entry=='' or entry.isdigit()==False:\n",
    "        print('''\\n\\tINVALID INPUT!!!\n",
    "         ENTER AGAIN ''')\n",
    "        print('\\t',i,end=' : ')\n",
    "        entry=input()\n",
    "    t_mrk.append(entry)\n",
    "updater(t_mrk,sub_no) \n",
    "studt_no=input('\\nENTER NO. OF STUDENTS : ')\n",
    "while studt_no=='' or studt_no.isdigit()==False:\n",
    "        print('''\\n\\tINVALID INPUT!!!\n",
    "         ENTER AGAIN ''')\n",
    "        studt_no=input('\\nENTER NO. OF STUDENTS : ')\n",
    "studt_no=int(studt_no)\n",
    "studts=[]   \n",
    "file_name=std+session+'.txt'\n",
    "file=open(file_name,'a')\n",
    "file.close()\n",
    "file=open(file_name,'r')\n",
    "size=len(file.read())\n",
    "file.close()\n",
    "if size>1: \n",
    "    file=open(file_name,'r')\n",
    "    print(file.read())\n",
    "    file.close() \n",
    "    response=input('''\\n\\t  #THIS IS NAME OF STUDENTS\n",
    "                  1.YES\n",
    "                  2.NO\n",
    "                      : ''') \n",
    "    if response=='1':\n",
    "        file=open(file_name,'r')\n",
    "        for i in file:\n",
    "            line=i.strip()\n",
    "            studts.append(line)\n",
    "        file.close() \n",
    "    else:\n",
    "        print('\\n #ENTER THE NAMES OF STUDENTS  (ex. jaiwardhan g)')\n",
    "        for i in range(studt_no):\n",
    "            print('\\t',i+1,end='. ')\n",
    "            entry=input()               \n",
    "            while entry=='':\n",
    "                print('''\\n\\tINVALID INPUT!!!\n",
    "                 ENTER AGAIN ''')\n",
    "                print('\\t',i+1,end='. ')\n",
    "                entry=input()\n",
    "            entry=entry.capitalize()\n",
    "            entry=entry[:-1]+entry[-1].capitalize()+'.'\n",
    "            studts.append(entry)\n",
    "        file=open(file_name,'w')\n",
    "        file.close()\n",
    "        for i in studts:\n",
    "            file=open(file_name,'a') \n",
    "            file.write(i+'\\n')\n",
    "            file.close()\n",
    "else:\n",
    "    print('\\n #ENTER THE NAMES OF STUDENTS  (ex. jaiwardhan g)')\n",
    "    for i in range(studt_no):\n",
    "        print('\\t',i+1,end='. ')\n",
    "        entry=input()              \n",
    "        while entry=='':\n",
    "            print('''\\n\\tINVALID INPUT!!!\n",
    "             ENTER AGAIN ''')\n",
    "            print('\\t',i+1,end='. ')\n",
    "            entry=input()\n",
    "        entry=entry.capitalize()\n",
    "        entry=entry[:-1]+entry[-1].capitalize()+'.'\n",
    "        studts.append(entry)\n",
    "    file=open(file_name,'w')\n",
    "    file.close()\n",
    "    for i in studts:\n",
    "        file=open(file_name,'a')\n",
    "        file.write(i+'\\n')\n",
    "        file.close()\n",
    "updater(studts,studt_no)\n",
    "big=13\n",
    "for i in range(studt_no):\n",
    "    tp=len(studts[i])          \n",
    "    if tp>=big:\n",
    "        big=tp+1 \n",
    "print('\\n #ENTER THE MARKS')\n",
    "mrks=[]             \n",
    "for j in range(sub_no):\n",
    "    print('\\n\\t',subs[j])\n",
    "    print()\n",
    "    lst=[]        \n",
    "    for i in studts:\n",
    "        print('\\t',i,(big-len(i))*' ',end=': ')             \n",
    "        entry=input()\n",
    "        while entry=='' or entry.isdigit()==False or int(t_mrk[j])<int(entry):\n",
    "            print('''\\n\\tINVALID INPUT!!!\n",
    "             ENTER AGAIN ''')\n",
    "            print('\\t',i,end=': ')\n",
    "            entry=input()\n",
    "        lst.append(entry)\n",
    "    updater(lst,studt_no)\n",
    "    mrks.append(lst)\n",
    "t_hoz=[]\n",
    "for i in range(studt_no):           \n",
    "    tp=0  \n",
    "    for j in range(sub_no):\n",
    "        tp+=int(mrks[j][i])\n",
    "    t_hoz.append(tp) \n",
    "t_ver=[]                                       \n",
    "for i in range(sub_no):\n",
    "    tp=0\n",
    "    for j in range(studt_no):\n",
    "        tp+=int(mrks[i][j])\n",
    "    t_ver.append(tp) \n",
    "asc_hoz=list(t_hoz)\n",
    "asc_hoz.sort(reverse=True)    \n",
    "cnvrt_mrk=[]       \n",
    "l_age=[]     \n",
    "def fitt(sting, distance):                             \n",
    "    diff=distance-len(str(sting))\n",
    "    if diff%2==0:\n",
    "        output=((diff//2)*' '+str(sting)+(diff//2)*' ')\n",
    "    else:\n",
    "        output=((diff//2)*' '+str(sting)+(diff//2)*' '+' ')\n",
    "    return output \n",
    "def mainline():                             \n",
    "    print('+--+'+big*'-'+'+',end='')\n",
    "    for i in range(2*sub_no+2):\n",
    "        print(3*'-'+'+',end='')\n",
    "    print(5*'-'+'+',end='')\n",
    "    print(2*'-'+'+') \n",
    "def header():   \n",
    "    mainline() \n",
    "    def line1():\n",
    "        print('|  |'+big*' '+'|',end='')\n",
    "        print(fitt('SUBJECTS',sub_no*7+sub_no-1)+'|',end='')\n",
    "        print(' TOTAL |'+5*' '+'|R |') \n",
    "    def line2():\n",
    "        print('|Sr|'+fitt('NAME OF THE',big)+'+',end='')\n",
    "        print((2*sub_no)*'---+'+7*' '+'|  %  |'+'A |') \n",
    "    def line3():\n",
    "        print('|  |'+big*' '+'|',end='')\n",
    "        for i in subs:\n",
    "            print(fitt(i,7)+'|',end='')\n",
    "        print(' MARKS |'+5*' '+'|N |') \n",
    "    def line4():\n",
    "        print('|No|'+fitt('STUDENTS',big)+'+',end='')\n",
    "        print((2*sub_no)*'---+'+7*'-'+'|'+' AGE |k |') \n",
    "    def line5(): \n",
    "        global total \n",
    "        print('|  |'+big*' '+'|',end='')\n",
    "        for i in t_mrk:\n",
    "            print(fitt(i,3)+'|'+'100|',end='')\n",
    "        total=0\n",
    "        for i in t_mrk:\n",
    "            tp=int(i)\n",
    "            total+=tp\n",
    "        tp=3-len(str(total))\n",
    "        print(fitt(total,3),end='')\n",
    "        print('|'+str(sub_no*100)+'|'+5*' '+'|S |')\n",
    "        mainline()\n",
    "    line1()\n",
    "    line2()\n",
    "    line3()\n",
    "    line4()\n",
    "    line5()\n",
    "def body(): \n",
    "    for i in range(studt_no):\n",
    "        print('|'+fitt(i+1,2)+'|',end='')\n",
    "        tp=big-len(studts[i])\n",
    "        print(studts[i]+tp*' '+'|',end='')\n",
    "        lst=[]\n",
    "        for j in range(sub_no):\n",
    "            cnvrt=int(round((int(mrks[j][i])/int(t_mrk[j]))*100))                  \n",
    "            lst.append(cnvrt)\n",
    "            print(fitt(mrks[j][i],3)+'|'+fitt(cnvrt,3)+'|',end='')\n",
    "        cnvrt_mrk.append(lst) \n",
    "        tp=3-len(str(t_hoz[i]))\n",
    "        cnvrt=int(round((t_hoz[i]/total)*(sub_no*100)))\n",
    "        cnvrt_tp=3-len(str(cnvrt))\n",
    "        print(fitt(t_hoz[i],3),end='')\n",
    "        print('|'+fitt(cnvrt,3)+'|',end='') \n",
    "        _age=round((t_hoz[i]/total)*100,2)                  \n",
    "        l_age.append(_age)\n",
    "        print(fitt(_age,5),end='')\n",
    "        print('|',end='') \n",
    "        for k in range(studt_no):                       \n",
    "            if t_hoz[i]==asc_hoz[k]:\n",
    "                rnk=str(k+1)\n",
    "                break\n",
    "        if int(rnk)<10:\n",
    "            rnk=' '+rnk\n",
    "        print(rnk+'|') \n",
    "        mainline() \n",
    "def end():  \n",
    "    def s1(): \n",
    "        print('|   '+fitt('TOTAL MARKS',big)+'|',end='') \n",
    "        global ttal \n",
    "        ttal=0\n",
    "        for i in range(len(t_ver)):\n",
    "            ttal+=t_ver[i]\n",
    "            cnvrt=int(round((t_ver[i]/int(t_mrk[i]))*100,0))\n",
    "            print(fitt(cnvrt,7),end='')\n",
    "            print('|',end='') \n",
    "        ttal=int(round((ttal/total)*(sub_no*100)))\n",
    "        print(fitt(ttal,7),end='')\n",
    "        print('|'+5*' ','  |') \n",
    "        mainline() \n",
    "    def s2(): \n",
    "        print(fitt('|'+'SUBJECT AVERAGE',17)+'|',end='')\n",
    "        for i in range(len(t_ver)):\n",
    "            av=round((t_ver[i]/(int(t_mrk[i])*studt_no))*100,2)\n",
    "            print(fitt(av,7),end='')\n",
    "            print('|',end='')\n",
    "        av=round((ttal/(studt_no*(sub_no*100)))*100,2)\n",
    "        print('CLASS AVG :'+fitt(av,5)+'|') \n",
    "        mainline() \n",
    "    s1()\n",
    "    s2() \n",
    "def _count():                               \n",
    "    print() \n",
    "    def c_line():\n",
    "        print('   '+'+'+big*'-'+'+',end='')\n",
    "        print(6*(7*'-'+'+')) \n",
    "    def c_body(): \n",
    "        c_line() \n",
    "        print(3*' '+'|'+fitt('SUBJECTS',big)+'|',end='')\n",
    "        print('  <33  | 33-59 | 60-74 | 75-89 | 90-94 | 95=<  |') \n",
    "        c_line() \n",
    "        for i in range(sub_no):\n",
    "            tp=big-len(subs[i])\n",
    "            print(3*' '+'|'+subs[i]+tp*' '+'|',end='') \n",
    "            b_33=b_59=b_74=b_89=b_94=a_95=0\n",
    "            for j in range(studt_no):\n",
    "                if cnvrt_mrk[j][i]<33:\n",
    "                    b_33+=1 \n",
    "                elif cnvrt_mrk[j][i]<=59 and cnvrt_mrk[j][i]>=33:\n",
    "                    b_59+=1 \n",
    "                elif cnvrt_mrk[j][i]<=74 and cnvrt_mrk[j][i]>=60:\n",
    "                    b_74+=1 \n",
    "                elif cnvrt_mrk[j][i]<=89 and cnvrt_mrk[j][i]>=75:\n",
    "                    b_89+=1 \n",
    "                elif cnvrt_mrk[j][i]<=94 and cnvrt_mrk[j][i]>=90:\n",
    "                    b_94+=1 \n",
    "                else:\n",
    "                    a_95+=1 \n",
    "            print(fitt(b_33,7)+'|', fitt(b_59,7)+'|', fitt(b_74,7)+'|', fitt(b_89,7)+'|',end='')\n",
    "            print(fitt(b_94,7)+'|', fitt(a_95,7)+'|') \n",
    "            c_line() \n",
    "    c_body() \n",
    "def achiver():                          \n",
    "    print()\n",
    "    blnk=((4*(2*sub_no+2))-30)*' '\n",
    "    def a_line():\n",
    "        print('   +---+'+big*'-'+'+-----+',end='')\n",
    "        print(blnk,end='')\n",
    "        print('+---+'+big*'-'+'+-----+') \n",
    "    top_dict={}\n",
    "    for i in range(studt_no):\n",
    "        if t_hoz[i]==asc_hoz[0] and 1 not in top_dict:\n",
    "            top_dict[1]=i \n",
    "        elif t_hoz[i]==asc_hoz[1] and 2 not in top_dict:\n",
    "            top_dict[2]=i \n",
    "        elif t_hoz[i]==asc_hoz[2] and 3 not in top_dict:\n",
    "            top_dict[3]=i \n",
    "        elif t_hoz[i]==asc_hoz[-1] and 4 not in top_dict:\n",
    "            top_dict[4]=i \n",
    "        elif t_hoz[i]==asc_hoz[-2] and 5 not in top_dict:\n",
    "            top_dict[5]=i \n",
    "        elif t_hoz[i]==asc_hoz[-3] and 6 not in top_dict:\n",
    "            top_dict[6]=i \n",
    "    print(3*' '+fitt('HIGH ACHIEVERS',26),end='')\n",
    "    print(blnk,end='')\n",
    "    print(fitt('LOW ACHIEVERS',26)) \n",
    "    a_line() \n",
    "    print('   |RNK|'+fitt('STUDENTS',big)+'|% AGE|',end='')\n",
    "    print(blnk,end='')\n",
    "    print('|RNK|'+fitt('STUDENTS',big)+'|% AGE|')\n",
    "    a_line()\n",
    "    for i in range(3): \n",
    "        print('   |'+fitt(str(1+i)+'.',3)+'|',end='')\n",
    "        print(fitt(studts[top_dict[i+1]],big)+'|', fitt(l_age[top_dict[i+1]],5)+'|', blnk,end='')\n",
    "        print('|'+fitt(str(studt_no-i)+'.',3)+'|',end='')\n",
    "        print(fitt(studts[top_dict[i+4]],big)+'|',end='')\n",
    "        print(fitt(l_age[top_dict[i+4]],5)+'|')\n",
    "        a_line()\n",
    "tp=input('''\\n\\t # RESULT IS COMPLETED\n",
    "            # PRESS ENTER''')\n",
    "def result():        \n",
    "    print('\\n',fitt(school,big+(4*(2*sub_no+2))+12))\n",
    "    print('CLASS TEACHER:'+class_teacher+',',regination,' ',exam,' ','CLASS:'+std,' ',session)\n",
    "    header()\n",
    "    body()\n",
    "    end()\n",
    "    _count()\n",
    "    achiver()\n",
    "print('\\n')\n",
    "result()\n"
   ]
  },
  {
   "cell_type": "code",
   "execution_count": null,
   "id": "67b81011-9acd-44bc-8b20-b291a154e527",
   "metadata": {},
   "outputs": [],
   "source": []
  }
 ],
 "metadata": {
  "kernelspec": {
   "display_name": "Python 3 (ipykernel)",
   "language": "python",
   "name": "python3"
  },
  "language_info": {
   "codemirror_mode": {
    "name": "ipython",
    "version": 3
   },
   "file_extension": ".py",
   "mimetype": "text/x-python",
   "name": "python",
   "nbconvert_exporter": "python",
   "pygments_lexer": "ipython3",
   "version": "3.11.1"
  }
 },
 "nbformat": 4,
 "nbformat_minor": 5
}
